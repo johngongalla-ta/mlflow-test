{
 "cells": [
  {
   "cell_type": "code",
   "execution_count": 1,
   "id": "48ed4ebd",
   "metadata": {},
   "outputs": [
    {
     "name": "stdout",
     "output_type": "stream",
     "text": [
      "Requirement already satisfied: mlflow in ./mlflow-env/lib/python3.12/site-packages (3.1.0)\n",
      "Requirement already satisfied: mlflow-skinny==3.1.0 in ./mlflow-env/lib/python3.12/site-packages (from mlflow) (3.1.0)\n",
      "Requirement already satisfied: Flask<4 in ./mlflow-env/lib/python3.12/site-packages (from mlflow) (3.1.1)\n",
      "Requirement already satisfied: alembic!=1.10.0,<2 in ./mlflow-env/lib/python3.12/site-packages (from mlflow) (1.16.2)\n",
      "Requirement already satisfied: docker<8,>=4.0.0 in ./mlflow-env/lib/python3.12/site-packages (from mlflow) (7.1.0)\n",
      "Requirement already satisfied: graphene<4 in ./mlflow-env/lib/python3.12/site-packages (from mlflow) (3.4.3)\n",
      "Requirement already satisfied: gunicorn<24 in ./mlflow-env/lib/python3.12/site-packages (from mlflow) (23.0.0)\n",
      "Requirement already satisfied: matplotlib<4 in ./mlflow-env/lib/python3.12/site-packages (from mlflow) (3.10.3)\n",
      "Requirement already satisfied: numpy<3 in ./mlflow-env/lib/python3.12/site-packages (from mlflow) (2.3.0)\n",
      "Requirement already satisfied: pandas<3 in ./mlflow-env/lib/python3.12/site-packages (from mlflow) (2.3.0)\n",
      "Requirement already satisfied: pyarrow<21,>=4.0.0 in ./mlflow-env/lib/python3.12/site-packages (from mlflow) (20.0.0)\n",
      "Requirement already satisfied: scikit-learn<2 in ./mlflow-env/lib/python3.12/site-packages (from mlflow) (1.7.0)\n",
      "Requirement already satisfied: scipy<2 in ./mlflow-env/lib/python3.12/site-packages (from mlflow) (1.15.3)\n",
      "Requirement already satisfied: sqlalchemy<3,>=1.4.0 in ./mlflow-env/lib/python3.12/site-packages (from mlflow) (2.0.41)\n",
      "Requirement already satisfied: cachetools<7,>=5.0.0 in ./mlflow-env/lib/python3.12/site-packages (from mlflow-skinny==3.1.0->mlflow) (5.5.2)\n",
      "Requirement already satisfied: click<9,>=7.0 in ./mlflow-env/lib/python3.12/site-packages (from mlflow-skinny==3.1.0->mlflow) (8.2.1)\n",
      "Requirement already satisfied: cloudpickle<4 in ./mlflow-env/lib/python3.12/site-packages (from mlflow-skinny==3.1.0->mlflow) (3.1.1)\n",
      "Requirement already satisfied: databricks-sdk<1,>=0.20.0 in ./mlflow-env/lib/python3.12/site-packages (from mlflow-skinny==3.1.0->mlflow) (0.57.0)\n",
      "Requirement already satisfied: fastapi<1 in ./mlflow-env/lib/python3.12/site-packages (from mlflow-skinny==3.1.0->mlflow) (0.115.12)\n",
      "Requirement already satisfied: gitpython<4,>=3.1.9 in ./mlflow-env/lib/python3.12/site-packages (from mlflow-skinny==3.1.0->mlflow) (3.1.44)\n",
      "Requirement already satisfied: importlib_metadata!=4.7.0,<9,>=3.7.0 in ./mlflow-env/lib/python3.12/site-packages (from mlflow-skinny==3.1.0->mlflow) (8.7.0)\n",
      "Requirement already satisfied: opentelemetry-api<3,>=1.9.0 in ./mlflow-env/lib/python3.12/site-packages (from mlflow-skinny==3.1.0->mlflow) (1.34.1)\n",
      "Requirement already satisfied: opentelemetry-sdk<3,>=1.9.0 in ./mlflow-env/lib/python3.12/site-packages (from mlflow-skinny==3.1.0->mlflow) (1.34.1)\n",
      "Requirement already satisfied: packaging<26 in ./mlflow-env/lib/python3.12/site-packages (from mlflow-skinny==3.1.0->mlflow) (25.0)\n",
      "Requirement already satisfied: protobuf<7,>=3.12.0 in ./mlflow-env/lib/python3.12/site-packages (from mlflow-skinny==3.1.0->mlflow) (6.31.1)\n",
      "Requirement already satisfied: pydantic<3,>=1.10.8 in ./mlflow-env/lib/python3.12/site-packages (from mlflow-skinny==3.1.0->mlflow) (2.11.7)\n",
      "Requirement already satisfied: pyyaml<7,>=5.1 in ./mlflow-env/lib/python3.12/site-packages (from mlflow-skinny==3.1.0->mlflow) (6.0.2)\n",
      "Requirement already satisfied: requests<3,>=2.17.3 in ./mlflow-env/lib/python3.12/site-packages (from mlflow-skinny==3.1.0->mlflow) (2.32.4)\n",
      "Requirement already satisfied: sqlparse<1,>=0.4.0 in ./mlflow-env/lib/python3.12/site-packages (from mlflow-skinny==3.1.0->mlflow) (0.5.3)\n",
      "Requirement already satisfied: typing-extensions<5,>=4.0.0 in ./mlflow-env/lib/python3.12/site-packages (from mlflow-skinny==3.1.0->mlflow) (4.14.0)\n",
      "Requirement already satisfied: uvicorn<1 in ./mlflow-env/lib/python3.12/site-packages (from mlflow-skinny==3.1.0->mlflow) (0.34.3)\n",
      "Requirement already satisfied: Mako in ./mlflow-env/lib/python3.12/site-packages (from alembic!=1.10.0,<2->mlflow) (1.3.10)\n",
      "Requirement already satisfied: google-auth~=2.0 in ./mlflow-env/lib/python3.12/site-packages (from databricks-sdk<1,>=0.20.0->mlflow-skinny==3.1.0->mlflow) (2.40.3)\n",
      "Requirement already satisfied: urllib3>=1.26.0 in ./mlflow-env/lib/python3.12/site-packages (from docker<8,>=4.0.0->mlflow) (2.4.0)\n",
      "Requirement already satisfied: starlette<0.47.0,>=0.40.0 in ./mlflow-env/lib/python3.12/site-packages (from fastapi<1->mlflow-skinny==3.1.0->mlflow) (0.46.2)\n",
      "Requirement already satisfied: blinker>=1.9.0 in ./mlflow-env/lib/python3.12/site-packages (from Flask<4->mlflow) (1.9.0)\n",
      "Requirement already satisfied: itsdangerous>=2.2.0 in ./mlflow-env/lib/python3.12/site-packages (from Flask<4->mlflow) (2.2.0)\n",
      "Requirement already satisfied: jinja2>=3.1.2 in ./mlflow-env/lib/python3.12/site-packages (from Flask<4->mlflow) (3.1.6)\n",
      "Requirement already satisfied: markupsafe>=2.1.1 in ./mlflow-env/lib/python3.12/site-packages (from Flask<4->mlflow) (3.0.2)\n",
      "Requirement already satisfied: werkzeug>=3.1.0 in ./mlflow-env/lib/python3.12/site-packages (from Flask<4->mlflow) (3.1.3)\n",
      "Requirement already satisfied: gitdb<5,>=4.0.1 in ./mlflow-env/lib/python3.12/site-packages (from gitpython<4,>=3.1.9->mlflow-skinny==3.1.0->mlflow) (4.0.12)\n",
      "Requirement already satisfied: smmap<6,>=3.0.1 in ./mlflow-env/lib/python3.12/site-packages (from gitdb<5,>=4.0.1->gitpython<4,>=3.1.9->mlflow-skinny==3.1.0->mlflow) (5.0.2)\n",
      "Requirement already satisfied: pyasn1-modules>=0.2.1 in ./mlflow-env/lib/python3.12/site-packages (from google-auth~=2.0->databricks-sdk<1,>=0.20.0->mlflow-skinny==3.1.0->mlflow) (0.4.2)\n",
      "Requirement already satisfied: rsa<5,>=3.1.4 in ./mlflow-env/lib/python3.12/site-packages (from google-auth~=2.0->databricks-sdk<1,>=0.20.0->mlflow-skinny==3.1.0->mlflow) (4.9.1)\n",
      "Requirement already satisfied: graphql-core<3.3,>=3.1 in ./mlflow-env/lib/python3.12/site-packages (from graphene<4->mlflow) (3.2.6)\n",
      "Requirement already satisfied: graphql-relay<3.3,>=3.1 in ./mlflow-env/lib/python3.12/site-packages (from graphene<4->mlflow) (3.2.0)\n",
      "Requirement already satisfied: python-dateutil<3,>=2.7.0 in ./mlflow-env/lib/python3.12/site-packages (from graphene<4->mlflow) (2.9.0.post0)\n",
      "Requirement already satisfied: zipp>=3.20 in ./mlflow-env/lib/python3.12/site-packages (from importlib_metadata!=4.7.0,<9,>=3.7.0->mlflow-skinny==3.1.0->mlflow) (3.23.0)\n",
      "Requirement already satisfied: contourpy>=1.0.1 in ./mlflow-env/lib/python3.12/site-packages (from matplotlib<4->mlflow) (1.3.2)\n",
      "Requirement already satisfied: cycler>=0.10 in ./mlflow-env/lib/python3.12/site-packages (from matplotlib<4->mlflow) (0.12.1)\n",
      "Requirement already satisfied: fonttools>=4.22.0 in ./mlflow-env/lib/python3.12/site-packages (from matplotlib<4->mlflow) (4.58.4)\n",
      "Requirement already satisfied: kiwisolver>=1.3.1 in ./mlflow-env/lib/python3.12/site-packages (from matplotlib<4->mlflow) (1.4.8)\n",
      "Requirement already satisfied: pillow>=8 in ./mlflow-env/lib/python3.12/site-packages (from matplotlib<4->mlflow) (11.2.1)\n",
      "Requirement already satisfied: pyparsing>=2.3.1 in ./mlflow-env/lib/python3.12/site-packages (from matplotlib<4->mlflow) (3.2.3)\n",
      "Requirement already satisfied: opentelemetry-semantic-conventions==0.55b1 in ./mlflow-env/lib/python3.12/site-packages (from opentelemetry-sdk<3,>=1.9.0->mlflow-skinny==3.1.0->mlflow) (0.55b1)\n",
      "Requirement already satisfied: pytz>=2020.1 in ./mlflow-env/lib/python3.12/site-packages (from pandas<3->mlflow) (2025.2)\n",
      "Requirement already satisfied: tzdata>=2022.7 in ./mlflow-env/lib/python3.12/site-packages (from pandas<3->mlflow) (2025.2)\n",
      "Requirement already satisfied: annotated-types>=0.6.0 in ./mlflow-env/lib/python3.12/site-packages (from pydantic<3,>=1.10.8->mlflow-skinny==3.1.0->mlflow) (0.7.0)\n",
      "Requirement already satisfied: pydantic-core==2.33.2 in ./mlflow-env/lib/python3.12/site-packages (from pydantic<3,>=1.10.8->mlflow-skinny==3.1.0->mlflow) (2.33.2)\n",
      "Requirement already satisfied: typing-inspection>=0.4.0 in ./mlflow-env/lib/python3.12/site-packages (from pydantic<3,>=1.10.8->mlflow-skinny==3.1.0->mlflow) (0.4.1)\n",
      "Requirement already satisfied: six>=1.5 in ./mlflow-env/lib/python3.12/site-packages (from python-dateutil<3,>=2.7.0->graphene<4->mlflow) (1.17.0)\n",
      "Requirement already satisfied: charset_normalizer<4,>=2 in ./mlflow-env/lib/python3.12/site-packages (from requests<3,>=2.17.3->mlflow-skinny==3.1.0->mlflow) (3.4.2)\n",
      "Requirement already satisfied: idna<4,>=2.5 in ./mlflow-env/lib/python3.12/site-packages (from requests<3,>=2.17.3->mlflow-skinny==3.1.0->mlflow) (3.10)\n",
      "Requirement already satisfied: certifi>=2017.4.17 in ./mlflow-env/lib/python3.12/site-packages (from requests<3,>=2.17.3->mlflow-skinny==3.1.0->mlflow) (2025.6.15)\n",
      "Requirement already satisfied: pyasn1>=0.1.3 in ./mlflow-env/lib/python3.12/site-packages (from rsa<5,>=3.1.4->google-auth~=2.0->databricks-sdk<1,>=0.20.0->mlflow-skinny==3.1.0->mlflow) (0.6.1)\n",
      "Requirement already satisfied: joblib>=1.2.0 in ./mlflow-env/lib/python3.12/site-packages (from scikit-learn<2->mlflow) (1.5.1)\n",
      "Requirement already satisfied: threadpoolctl>=3.1.0 in ./mlflow-env/lib/python3.12/site-packages (from scikit-learn<2->mlflow) (3.6.0)\n",
      "Requirement already satisfied: greenlet>=1 in ./mlflow-env/lib/python3.12/site-packages (from sqlalchemy<3,>=1.4.0->mlflow) (3.2.3)\n",
      "Requirement already satisfied: anyio<5,>=3.6.2 in ./mlflow-env/lib/python3.12/site-packages (from starlette<0.47.0,>=0.40.0->fastapi<1->mlflow-skinny==3.1.0->mlflow) (4.9.0)\n",
      "Requirement already satisfied: sniffio>=1.1 in ./mlflow-env/lib/python3.12/site-packages (from anyio<5,>=3.6.2->starlette<0.47.0,>=0.40.0->fastapi<1->mlflow-skinny==3.1.0->mlflow) (1.3.1)\n",
      "Requirement already satisfied: h11>=0.8 in ./mlflow-env/lib/python3.12/site-packages (from uvicorn<1->mlflow-skinny==3.1.0->mlflow) (0.16.0)\n",
      "\u001b[33mWARNING: There was an error checking the latest version of pip.\u001b[0m\u001b[33m\n",
      "\u001b[0mNote: you may need to restart the kernel to use updated packages.\n"
     ]
    }
   ],
   "source": [
    "%pip install mlflow"
   ]
  },
  {
   "cell_type": "code",
   "execution_count": 2,
   "id": "6ac9d407",
   "metadata": {},
   "outputs": [],
   "source": [
    "import os\n",
    "import warnings\n",
    "import sys\n",
    "\n",
    "import pandas as pd\n",
    "import numpy as np\n",
    "\n",
    "from sklearn.metrics import mean_squared_error, mean_absolute_error, r2_score\n",
    "from sklearn.model_selection import train_test_split\n",
    "from sklearn.linear_model import ElasticNet\n",
    "\n",
    "import mlflow\n",
    "import mlflow.sklearn"
   ]
  },
  {
   "cell_type": "code",
   "execution_count": 3,
   "id": "b904d510",
   "metadata": {},
   "outputs": [
    {
     "data": {
      "text/html": [
       "<div>\n",
       "<style scoped>\n",
       "    .dataframe tbody tr th:only-of-type {\n",
       "        vertical-align: middle;\n",
       "    }\n",
       "\n",
       "    .dataframe tbody tr th {\n",
       "        vertical-align: top;\n",
       "    }\n",
       "\n",
       "    .dataframe thead th {\n",
       "        text-align: right;\n",
       "    }\n",
       "</style>\n",
       "<table border=\"1\" class=\"dataframe\">\n",
       "  <thead>\n",
       "    <tr style=\"text-align: right;\">\n",
       "      <th></th>\n",
       "      <th>fixed acidity</th>\n",
       "      <th>volatile acidity</th>\n",
       "      <th>citric acid</th>\n",
       "      <th>residual sugar</th>\n",
       "      <th>chlorides</th>\n",
       "      <th>free sulfur dioxide</th>\n",
       "      <th>total sulfur dioxide</th>\n",
       "      <th>density</th>\n",
       "      <th>pH</th>\n",
       "      <th>sulphates</th>\n",
       "      <th>alcohol</th>\n",
       "      <th>quality</th>\n",
       "    </tr>\n",
       "  </thead>\n",
       "  <tbody>\n",
       "    <tr>\n",
       "      <th>41</th>\n",
       "      <td>8.8</td>\n",
       "      <td>0.61</td>\n",
       "      <td>0.30</td>\n",
       "      <td>2.8</td>\n",
       "      <td>0.088</td>\n",
       "      <td>17.0</td>\n",
       "      <td>46.0</td>\n",
       "      <td>0.99760</td>\n",
       "      <td>3.26</td>\n",
       "      <td>0.51</td>\n",
       "      <td>9.3</td>\n",
       "      <td>4</td>\n",
       "    </tr>\n",
       "    <tr>\n",
       "      <th>994</th>\n",
       "      <td>10.0</td>\n",
       "      <td>0.35</td>\n",
       "      <td>0.45</td>\n",
       "      <td>2.5</td>\n",
       "      <td>0.092</td>\n",
       "      <td>20.0</td>\n",
       "      <td>88.0</td>\n",
       "      <td>0.99918</td>\n",
       "      <td>3.15</td>\n",
       "      <td>0.43</td>\n",
       "      <td>9.4</td>\n",
       "      <td>5</td>\n",
       "    </tr>\n",
       "    <tr>\n",
       "      <th>1345</th>\n",
       "      <td>8.2</td>\n",
       "      <td>0.44</td>\n",
       "      <td>0.24</td>\n",
       "      <td>2.3</td>\n",
       "      <td>0.063</td>\n",
       "      <td>10.0</td>\n",
       "      <td>28.0</td>\n",
       "      <td>0.99613</td>\n",
       "      <td>3.25</td>\n",
       "      <td>0.53</td>\n",
       "      <td>10.2</td>\n",
       "      <td>6</td>\n",
       "    </tr>\n",
       "    <tr>\n",
       "      <th>1086</th>\n",
       "      <td>8.5</td>\n",
       "      <td>0.34</td>\n",
       "      <td>0.40</td>\n",
       "      <td>4.7</td>\n",
       "      <td>0.055</td>\n",
       "      <td>3.0</td>\n",
       "      <td>9.0</td>\n",
       "      <td>0.99738</td>\n",
       "      <td>3.38</td>\n",
       "      <td>0.66</td>\n",
       "      <td>11.6</td>\n",
       "      <td>7</td>\n",
       "    </tr>\n",
       "    <tr>\n",
       "      <th>1269</th>\n",
       "      <td>5.5</td>\n",
       "      <td>0.49</td>\n",
       "      <td>0.03</td>\n",
       "      <td>1.8</td>\n",
       "      <td>0.044</td>\n",
       "      <td>28.0</td>\n",
       "      <td>87.0</td>\n",
       "      <td>0.99080</td>\n",
       "      <td>3.50</td>\n",
       "      <td>0.82</td>\n",
       "      <td>14.0</td>\n",
       "      <td>8</td>\n",
       "    </tr>\n",
       "    <tr>\n",
       "      <th>1596</th>\n",
       "      <td>6.3</td>\n",
       "      <td>0.51</td>\n",
       "      <td>0.13</td>\n",
       "      <td>2.3</td>\n",
       "      <td>0.076</td>\n",
       "      <td>29.0</td>\n",
       "      <td>40.0</td>\n",
       "      <td>0.99574</td>\n",
       "      <td>3.42</td>\n",
       "      <td>0.75</td>\n",
       "      <td>11.0</td>\n",
       "      <td>6</td>\n",
       "    </tr>\n",
       "    <tr>\n",
       "      <th>701</th>\n",
       "      <td>7.0</td>\n",
       "      <td>0.65</td>\n",
       "      <td>0.02</td>\n",
       "      <td>2.1</td>\n",
       "      <td>0.066</td>\n",
       "      <td>8.0</td>\n",
       "      <td>25.0</td>\n",
       "      <td>0.99720</td>\n",
       "      <td>3.47</td>\n",
       "      <td>0.67</td>\n",
       "      <td>9.5</td>\n",
       "      <td>6</td>\n",
       "    </tr>\n",
       "    <tr>\n",
       "      <th>1451</th>\n",
       "      <td>7.8</td>\n",
       "      <td>0.32</td>\n",
       "      <td>0.44</td>\n",
       "      <td>2.7</td>\n",
       "      <td>0.104</td>\n",
       "      <td>8.0</td>\n",
       "      <td>17.0</td>\n",
       "      <td>0.99732</td>\n",
       "      <td>3.33</td>\n",
       "      <td>0.78</td>\n",
       "      <td>11.0</td>\n",
       "      <td>7</td>\n",
       "    </tr>\n",
       "    <tr>\n",
       "      <th>568</th>\n",
       "      <td>9.8</td>\n",
       "      <td>0.50</td>\n",
       "      <td>0.49</td>\n",
       "      <td>2.6</td>\n",
       "      <td>0.250</td>\n",
       "      <td>5.0</td>\n",
       "      <td>20.0</td>\n",
       "      <td>0.99900</td>\n",
       "      <td>3.31</td>\n",
       "      <td>0.79</td>\n",
       "      <td>10.7</td>\n",
       "      <td>6</td>\n",
       "    </tr>\n",
       "    <tr>\n",
       "      <th>1265</th>\n",
       "      <td>7.2</td>\n",
       "      <td>0.57</td>\n",
       "      <td>0.05</td>\n",
       "      <td>2.3</td>\n",
       "      <td>0.081</td>\n",
       "      <td>16.0</td>\n",
       "      <td>36.0</td>\n",
       "      <td>0.99564</td>\n",
       "      <td>3.38</td>\n",
       "      <td>0.60</td>\n",
       "      <td>10.3</td>\n",
       "      <td>6</td>\n",
       "    </tr>\n",
       "  </tbody>\n",
       "</table>\n",
       "</div>"
      ],
      "text/plain": [
       "      fixed acidity  volatile acidity  citric acid  residual sugar  chlorides  \\\n",
       "41              8.8              0.61         0.30             2.8      0.088   \n",
       "994            10.0              0.35         0.45             2.5      0.092   \n",
       "1345            8.2              0.44         0.24             2.3      0.063   \n",
       "1086            8.5              0.34         0.40             4.7      0.055   \n",
       "1269            5.5              0.49         0.03             1.8      0.044   \n",
       "1596            6.3              0.51         0.13             2.3      0.076   \n",
       "701             7.0              0.65         0.02             2.1      0.066   \n",
       "1451            7.8              0.32         0.44             2.7      0.104   \n",
       "568             9.8              0.50         0.49             2.6      0.250   \n",
       "1265            7.2              0.57         0.05             2.3      0.081   \n",
       "\n",
       "      free sulfur dioxide  total sulfur dioxide  density    pH  sulphates  \\\n",
       "41                   17.0                  46.0  0.99760  3.26       0.51   \n",
       "994                  20.0                  88.0  0.99918  3.15       0.43   \n",
       "1345                 10.0                  28.0  0.99613  3.25       0.53   \n",
       "1086                  3.0                   9.0  0.99738  3.38       0.66   \n",
       "1269                 28.0                  87.0  0.99080  3.50       0.82   \n",
       "1596                 29.0                  40.0  0.99574  3.42       0.75   \n",
       "701                   8.0                  25.0  0.99720  3.47       0.67   \n",
       "1451                  8.0                  17.0  0.99732  3.33       0.78   \n",
       "568                   5.0                  20.0  0.99900  3.31       0.79   \n",
       "1265                 16.0                  36.0  0.99564  3.38       0.60   \n",
       "\n",
       "      alcohol  quality  \n",
       "41        9.3        4  \n",
       "994       9.4        5  \n",
       "1345     10.2        6  \n",
       "1086     11.6        7  \n",
       "1269     14.0        8  \n",
       "1596     11.0        6  \n",
       "701       9.5        6  \n",
       "1451     11.0        7  \n",
       "568      10.7        6  \n",
       "1265     10.3        6  "
      ]
     },
     "execution_count": 3,
     "metadata": {},
     "output_type": "execute_result"
    }
   ],
   "source": [
    "data_path_red_wine = \"datasets/winequality-red.csv\"\n",
    "data = pd.read_csv(data_path_red_wine,sep=';')\n",
    "\n",
    "data.sample(10)"
   ]
  },
  {
   "cell_type": "code",
   "execution_count": 4,
   "id": "d1ff138a",
   "metadata": {},
   "outputs": [],
   "source": [
    "remote_server_uri = \"http://0.0.0.0:5001\"\n",
    "mlflow.set_tracking_uri(remote_server_uri)"
   ]
  },
  {
   "cell_type": "code",
   "execution_count": 5,
   "id": "97b67b14",
   "metadata": {},
   "outputs": [
    {
     "data": {
      "text/plain": [
       "'http://0.0.0.0:5001'"
      ]
     },
     "execution_count": 5,
     "metadata": {},
     "output_type": "execute_result"
    }
   ],
   "source": [
    "mlflow.tracking.get_tracking_uri()"
   ]
  },
  {
   "cell_type": "code",
   "execution_count": 8,
   "id": "a685a245",
   "metadata": {},
   "outputs": [
    {
     "name": "stderr",
     "output_type": "stream",
     "text": [
      "2025/06/25 11:22:00 INFO mlflow.tracking.fluent: Experiment with name 'ElasticNet_wine' does not exist. Creating a new experiment.\n"
     ]
    },
    {
     "data": {
      "text/plain": [
       "<Experiment: artifact_location='mlflow-artifacts:/1', creation_time=1750830720918, experiment_id='1', last_update_time=1750830720918, lifecycle_stage='active', name='ElasticNet_wine', tags={}>"
      ]
     },
     "execution_count": 8,
     "metadata": {},
     "output_type": "execute_result"
    }
   ],
   "source": [
    "exp_name = \"ElasticNet_wine\"\n",
    "mlflow.set_experiment(exp_name)"
   ]
  },
  {
   "cell_type": "markdown",
   "id": "ce3e136d",
   "metadata": {},
   "source": [
    "**ConnectionRefusedError**:  \n",
    "It appears that the notebook cannot connect to the MLflow tracking server at `http://0.0.0.0:5001`.  \n",
    "- Make sure the MLflow server is running and accessible at this address.\n",
    "- You can start a local MLflow server with:  \n",
    "  ```\n",
    "  mlflow server --host 0.0.0.0 --port 5001 --backend-store-uri sqlite:///mlflow.db\n",
    "  ```\n",
    "- If running remotely, ensure network/firewall settings allow access."
   ]
  },
  {
   "cell_type": "code",
   "execution_count": 9,
   "id": "9cf8dcef",
   "metadata": {},
   "outputs": [],
   "source": [
    "def eval_metrics(actual, pred):\n",
    "    rmse = np.sqrt(mean_squared_error(actual, pred))\n",
    "    mae = mean_absolute_error(actual, pred)\n",
    "    r2 = r2_score(actual, pred)\n",
    "\n",
    "    return rmse, mae, r2\n",
    "\n",
    "def load_data(data_path):\n",
    "    data = pd.read_csv(data_path,sep=';')\n",
    "\n",
    "    #split\n",
    "    train, test = train_test_split(data)\n",
    "\n",
    "    train_X = train.drop([\"quality\"], axis=1)\n",
    "    test_X = test.drop(['quality'], axis=1)\n",
    "    train_y = train[['quality']]\n",
    "    test_y = test[['quality']]\n",
    "\n",
    "    return train_X, train_y, test_X, test_y\n",
    "\n",
    "def train(alpha=0.5, l1_ratio=0.5):\n",
    "    warnings.filterwarnings('ignore')\n",
    "    np.random.seed(40)\n",
    "\n",
    "    train_X, train_y, test_X, test_y = load_data(data_path_red_wine)\n",
    "\n",
    "    with mlflow.start_run():\n",
    "        lr = ElasticNet(alpha=alpha, l1_ratio=l1_ratio, random_state=42)\n",
    "        lr.fit(train_X, train_y)\n",
    "\n",
    "        # eval metric\n",
    "        predict_qualities = lr.predict(test_X)\n",
    "        rmse, mae, r2 = eval_metrics(test_y, predict_qualities)\n",
    "\n",
    "        print(\"ElasticNet Model (alpha=%f, l1_ratio=%f):\" % (alpha, l1_ratio))\n",
    "        print(\"RMSE: %s\" %rmse)\n",
    "        print(\"MAE: %s\" %mae)\n",
    "        print(\"R2: %s\" %r2)\n",
    "\n",
    "        # log params\n",
    "        mlflow.log_param(key=\"alpha\", value=alpha)\n",
    "        mlflow.log_param(key=\"l1_ratio\", value=l1_ratio)\n",
    "        mlflow.log_metric(key=\"rmse\", value=rmse)\n",
    "        mlflow.log_metrics({\"mae\": mae, \"r2\": r2})\n",
    "        mlflow.log_artifact(data_path_red_wine)\n",
    "\n",
    "        print(\"Save to: {}\".format(mlflow.get_artifact_uri()))\n",
    "\n",
    "        mlflow.sklearn.log_model(lr, 'model')"
   ]
  },
  {
   "cell_type": "code",
   "execution_count": 10,
   "id": "3c3965a9",
   "metadata": {},
   "outputs": [
    {
     "name": "stdout",
     "output_type": "stream",
     "text": [
      "ElasticNet Model (alpha=0.500000, l1_ratio=0.500000):\n",
      "RMSE: 0.793164022927685\n",
      "MAE: 0.6271946374319586\n",
      "R2: 0.10862644997792636\n"
     ]
    },
    {
     "name": "stderr",
     "output_type": "stream",
     "text": [
      "2025/06/25 11:23:31 WARNING mlflow.models.model: `artifact_path` is deprecated. Please use `name` instead.\n"
     ]
    },
    {
     "name": "stdout",
     "output_type": "stream",
     "text": [
      "Save to: mlflow-artifacts:/1/686ffbb856a3426eb5656bebbe84e1c2/artifacts\n"
     ]
    },
    {
     "name": "stderr",
     "output_type": "stream",
     "text": [
      "\u001b[31m2025/06/25 11:23:34 WARNING mlflow.models.model: Model logged without a signature and input example. Please set `input_example` parameter when logging the model to auto infer the model signature.\u001b[0m\n"
     ]
    },
    {
     "name": "stdout",
     "output_type": "stream",
     "text": [
      "🏃 View run bold-owl-191 at: http://0.0.0.0:5001/#/experiments/1/runs/686ffbb856a3426eb5656bebbe84e1c2\n",
      "🧪 View experiment at: http://0.0.0.0:5001/#/experiments/1\n"
     ]
    }
   ],
   "source": [
    "train(0.5, 0.5)"
   ]
  },
  {
   "cell_type": "code",
   "execution_count": 11,
   "id": "98363c81",
   "metadata": {},
   "outputs": [
    {
     "name": "stderr",
     "output_type": "stream",
     "text": [
      "2025/06/25 11:24:21 WARNING mlflow.models.model: `artifact_path` is deprecated. Please use `name` instead.\n"
     ]
    },
    {
     "name": "stdout",
     "output_type": "stream",
     "text": [
      "ElasticNet Model (alpha=0.200000, l1_ratio=0.200000):\n",
      "RMSE: 0.7336400911821402\n",
      "MAE: 0.5643841279275427\n",
      "R2: 0.2373946606358417\n",
      "Save to: mlflow-artifacts:/1/e48e027f681243089156a95e79a1f54e/artifacts\n"
     ]
    },
    {
     "name": "stderr",
     "output_type": "stream",
     "text": [
      "\u001b[31m2025/06/25 11:24:23 WARNING mlflow.models.model: Model logged without a signature and input example. Please set `input_example` parameter when logging the model to auto infer the model signature.\u001b[0m\n"
     ]
    },
    {
     "name": "stdout",
     "output_type": "stream",
     "text": [
      "🏃 View run abrasive-whale-993 at: http://0.0.0.0:5001/#/experiments/1/runs/e48e027f681243089156a95e79a1f54e\n",
      "🧪 View experiment at: http://0.0.0.0:5001/#/experiments/1\n"
     ]
    }
   ],
   "source": [
    "train(0.2, 0.2)"
   ]
  },
  {
   "cell_type": "code",
   "execution_count": null,
   "id": "be493749",
   "metadata": {},
   "outputs": [],
   "source": []
  }
 ],
 "metadata": {
  "kernelspec": {
   "display_name": "mlflow-env",
   "language": "python",
   "name": "python3"
  },
  "language_info": {
   "codemirror_mode": {
    "name": "ipython",
    "version": 3
   },
   "file_extension": ".py",
   "mimetype": "text/x-python",
   "name": "python",
   "nbconvert_exporter": "python",
   "pygments_lexer": "ipython3",
   "version": "3.12.9"
  }
 },
 "nbformat": 4,
 "nbformat_minor": 5
}
